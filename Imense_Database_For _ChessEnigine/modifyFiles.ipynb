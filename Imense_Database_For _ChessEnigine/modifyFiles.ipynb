{
 "cells": [
  {
   "cell_type": "code",
   "execution_count": 1,
   "metadata": {
    "collapsed": true
   },
   "outputs": [],
   "source": [
    "import chess.pgn\n",
    "import csv\n",
    "import os\n",
    "import zipfile"
   ]
  },
  {
   "cell_type": "code",
   "execution_count": 2,
   "outputs": [],
   "source": [
    "os.mkdir(\"Tournaments_CSV\")\n",
    "\n",
    "# specify the directory path\n",
    "path = '[Tournaments]'\n",
    "\n",
    "# get the list of all files in the directory\n",
    "files = os.listdir(path)\n",
    "\n",
    "# store the list of file names in an array\n",
    "file_array = []\n",
    "for file in files:\n",
    "    file_array.append(file)\n",
    "\n",
    "# print the file array\n",
    "# print(file_array)\n",
    "\n",
    "# convert all the pgn files to csv files\n",
    "for i in file_array:\n",
    "    # open the pgn file\n",
    "    pgn = open(path + \"/\" + i)\n",
    "\n",
    "    # create a csv file and write header\n",
    "    csvfile = open(\"Tournaments_CSV/\" + i[:-4] + \".csv\", \"w\", newline=\"\")\n",
    "    writer = csv.writer(csvfile)\n",
    "    writer.writerow([\"Event\", \"Site\", \"Date\", \"Round\", \"White\", \"Black\", \"Result\", \"WhiteElo\", \"BlackElo\", \"ECO\", \"Moves\"])\n",
    "\n",
    "    # loop through each game in the pgn file\n",
    "    while True:\n",
    "        game = chess.pgn.read_game(pgn)\n",
    "        if not game:\n",
    "            break\n",
    "\n",
    "        # get the game headers\n",
    "        headers = game.headers\n",
    "\n",
    "        # get the moves\n",
    "        moves = []\n",
    "        node = game\n",
    "        while not node.is_end():\n",
    "            node = node.variation(0)\n",
    "            moves.append(node.move.uci())\n",
    "\n",
    "        # write to csv file\n",
    "        writer.writerow([headers.get(\"Event\", \"\"), headers.get(\"Site\", \"\"), headers.get(\"Date\", \"\"), headers.get(\"Round\", \"\"), headers.get(\"White\", \"\"), headers.get(\"Black\", \"\"), headers.get(\"Result\", \"\"), headers.get(\"WhiteElo\", \"\"), headers.get(\"BlackElo\", \"\"), headers.get(\"ECO\", \"\"), \" \".join(moves)])\n",
    "\n",
    "    # close files\n",
    "    pgn.close()\n",
    "    csvfile.close()"
   ],
   "metadata": {
    "collapsed": false
   }
  },
  {
   "cell_type": "code",
   "execution_count": 3,
   "outputs": [],
   "source": [
    "path = '[All_Top_Players]'\n",
    "\n",
    "# get the list of all files in the directory\n",
    "files = os.listdir(path)\n",
    "\n",
    "# store the list of file names in an array\n",
    "file_array = []\n",
    "for file in files:\n",
    "    file_array.append(file)\n",
    "\n",
    "# print the file array\n",
    "# print(file_array)\n",
    "\n",
    "# extract all the zip files\n",
    "for i in file_array:\n",
    "    with zipfile.ZipFile(path + \"/\" + i, 'r') as zip_ref:\n",
    "        zip_ref.extractall(\"Extracted_All_Top_Players\")"
   ],
   "metadata": {
    "collapsed": false
   }
  },
  {
   "cell_type": "code",
   "execution_count": 4,
   "outputs": [
    {
     "name": "stderr",
     "output_type": "stream",
     "text": [
      "illegal san: 'Qxe1' in r2k3r/2pPp3/p4n2/3b2B1/1p5P/2qP4/3RQ1P1/4K2R w - - 2 31 while parsing <Game at 0x21adee10eb0 ('Gelfand,B' vs. 'Gareev,T', '2019.12.29' at 'Moscow RUS')>\n",
      "illegal san: 'Bf3' in 6k1/pb3r1p/1q4p1/6Q1/2p1rb2/3p3P/PP1R2P1/2BR1N1K w - - 8 38 while parsing <Game at 0x21adf0d1d90 ('Schleining,Z' vs. 'Paehtz,E', '2014.11.23' at 'Dresden GER')>\n"
     ]
    }
   ],
   "source": [
    "os.mkdir(\"All_Top_Players_CSV\")\n",
    "\n",
    "# specify the directory path\n",
    "path = 'Extracted_All_Top_Players'\n",
    "\n",
    "# get the list of all files in the directory\n",
    "files = os.listdir(path)\n",
    "\n",
    "# store the list of file names in an array\n",
    "file_array = []\n",
    "for file in files:\n",
    "    file_array.append(file)\n",
    "\n",
    "# print the file array\n",
    "# print(file_array)\n",
    "\n",
    "# convert all the pgn files to csv files\n",
    "for i in file_array:\n",
    "    # open the pgn file\n",
    "    pgn = open(path + \"/\" + i)\n",
    "\n",
    "    # create a csv file and write header\n",
    "    csvfile = open(\"All_Top_Players_CSV/\" + i[:-4] + \".csv\", \"w\", newline=\"\")\n",
    "    writer = csv.writer(csvfile)\n",
    "    writer.writerow([\"Event\", \"Site\", \"Date\", \"Round\", \"White\", \"Black\", \"Result\", \"WhiteElo\", \"BlackElo\", \"ECO\", \"Moves\"])\n",
    "\n",
    "    # loop through each game in the pgn file\n",
    "    while True:\n",
    "        game = chess.pgn.read_game(pgn)\n",
    "        if not game:\n",
    "            break\n",
    "\n",
    "        # get the game headers\n",
    "        headers = game.headers\n",
    "\n",
    "        # get the moves\n",
    "        moves = []\n",
    "        node = game\n",
    "        while not node.is_end():\n",
    "            node = node.variation(0)\n",
    "            moves.append(node.move.uci())\n",
    "\n",
    "        # write to csv file\n",
    "        writer.writerow([headers.get(\"Event\", \"\"), headers.get(\"Site\", \"\"), headers.get(\"Date\", \"\"), headers.get(\"Round\", \"\"), headers.get(\"White\", \"\"), headers.get(\"Black\", \"\"), headers.get(\"Result\", \"\"), headers.get(\"WhiteElo\", \"\"), headers.get(\"BlackElo\", \"\"), headers.get(\"ECO\", \"\"), \" \".join(moves)])\n",
    "\n",
    "    # close files\n",
    "    pgn.close()\n",
    "    csvfile.close()"
   ],
   "metadata": {
    "collapsed": false
   }
  },
  {
   "cell_type": "code",
   "execution_count": 7,
   "outputs": [],
   "source": [
    "# combine all the csv files of Tournaments_CSV folder into one csv file with name 1.Tournaments.csv\n",
    "import glob\n",
    "import pandas as pd\n",
    "\n",
    "# specify the directory path\n",
    "path = 'Tournaments_CSV'\n",
    "\n",
    "# get the list of all files in the directory\n",
    "files = os.listdir(path)\n",
    "\n",
    "# store the list of file names in an array\n",
    "file_array = []\n",
    "for file in files:\n",
    "    file_array.append(file)\n",
    "\n",
    "# print the file array\n",
    "# print(file_array)\n",
    "\n",
    "# combine all the csv files into one csv file\n",
    "combined_csv = pd.concat([pd.read_csv(path + \"/\" + f, encoding='Latin-1') for f in file_array])\n",
    "combined_csv.to_csv(\"1.Tournaments.csv\", index=False)\n"
   ],
   "metadata": {
    "collapsed": false
   }
  },
  {
   "cell_type": "code",
   "execution_count": 8,
   "outputs": [],
   "source": [
    "# combine all the csv files of Tournaments_CSV folder into one csv file with name 1.Tournaments.csv\n",
    "import glob\n",
    "import pandas as pd\n",
    "\n",
    "# specify the directory path\n",
    "path = 'World_Chess_Champoinship_CSV'\n",
    "\n",
    "# get the list of all files in the directory\n",
    "files = os.listdir(path)\n",
    "\n",
    "# store the list of file names in an array\n",
    "file_array = []\n",
    "for file in files:\n",
    "    file_array.append(file)\n",
    "\n",
    "# print the file array\n",
    "# print(file_array)\n",
    "\n",
    "# combine all the csv files into one csv file\n",
    "combined_csv = pd.concat([pd.read_csv(path + \"/\" + f, encoding='Latin-1') for f in file_array])\n",
    "combined_csv.to_csv(\"1.World_Chess_Champoinship_CSV.csv\", index=False)\n"
   ],
   "metadata": {
    "collapsed": false
   }
  },
  {
   "cell_type": "code",
   "execution_count": 9,
   "outputs": [],
   "source": [
    "# combine all the csv files of Tournaments_CSV folder into one csv file with name 1.Tournaments.csv\n",
    "import glob\n",
    "import pandas as pd\n",
    "\n",
    "# specify the directory path\n",
    "path = 'All_Top_Players_CSV'\n",
    "\n",
    "# get the list of all files in the directory\n",
    "files = os.listdir(path)\n",
    "\n",
    "# store the list of file names in an array\n",
    "file_array = []\n",
    "for file in files:\n",
    "    file_array.append(file)\n",
    "\n",
    "# print the file array\n",
    "# print(file_array)\n",
    "\n",
    "# combine all the csv files into one csv file\n",
    "combined_csv = pd.concat([pd.read_csv(path + \"/\" + f, encoding='Latin-1') for f in file_array])\n",
    "combined_csv.to_csv(\"1.All_Top_Players_CSV.csv\", index=False)\n"
   ],
   "metadata": {
    "collapsed": false
   }
  },
  {
   "cell_type": "code",
   "execution_count": null,
   "outputs": [],
   "source": [],
   "metadata": {
    "collapsed": false
   }
  }
 ],
 "metadata": {
  "kernelspec": {
   "display_name": "Python 3",
   "language": "python",
   "name": "python3"
  },
  "language_info": {
   "codemirror_mode": {
    "name": "ipython",
    "version": 2
   },
   "file_extension": ".py",
   "mimetype": "text/x-python",
   "name": "python",
   "nbconvert_exporter": "python",
   "pygments_lexer": "ipython2",
   "version": "2.7.6"
  }
 },
 "nbformat": 4,
 "nbformat_minor": 0
}
